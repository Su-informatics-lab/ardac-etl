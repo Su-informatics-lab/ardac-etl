{
 "cells": [
  {
   "cell_type": "code",
   "execution_count": 49,
   "id": "9a1453fb-00d1-4500-9506-e8fa208c34cf",
   "metadata": {},
   "outputs": [],
   "source": [
    "import pandas as pd"
   ]
  },
  {
   "cell_type": "code",
   "execution_count": 50,
   "id": "e2bb9f9b-201b-4296-ac39-8a33a728ea05",
   "metadata": {},
   "outputs": [],
   "source": [
    "# Path to the template TSV file containing the headers\n",
    "template_file_path = \"node_template/submission_case_template.tsv\"\n",
    "\n",
    "# Read the template TSV file to extract the headers\n",
    "df_template = pd.read_csv(template_file_path, sep=\"\\t\", nrows=0)  # Read only the header\n",
    "headers = df_template.columns.tolist()  # Extract the headers as a list"
   ]
  },
  {
   "cell_type": "code",
   "execution_count": null,
   "id": "ffbcd6c5-1d36-4eca-9e66-ca7357bbcf22",
   "metadata": {},
   "outputs": [],
   "source": [
    "# Observational Patients\n",
    "\n",
    "# File path to the input CSV file\n",
    "file_path_obs = \"/Users/jinn/Documents/IU/ARDaC/DCC_data_release_v2.0.0/raw_data/Data for Nanxin/OBS Final Datasets/OBS_SUBJECTS.csv\"\n",
    "\n",
    "# Read the file using pandas\n",
    "df_obs_input = pd.read_csv(file_path_obs, sep=\",\", dtype=str)\n",
    "\n",
    "# Initialize a DataFrame with the defined headers and same index as df_obs_input\n",
    "df_obs_output = pd.DataFrame(index=df_obs_input.index, columns=headers)\n",
    "\n",
    "# Assign fixed values using .loc to align with the index\n",
    "df_obs_output.loc[:, \"*type\"] = \"case\"\n",
    "df_obs_output.loc[:, \"project_id\"] = \"ARDaC-AlcHepNet\"\n",
    "df_obs_output.loc[:, \"*studies.submitter_id\"] = \"obs\"\n",
    "df_obs_output.loc[:, \"index_date\"] = \"Study Enrollment\"\n",
    "\n",
    "# Map dynamic values using .apply\n",
    "df_obs_output[\"*submitter_id\"] = df_obs_input[\"usubjid\"].apply(lambda x: f\"{x}_obs\" if pd.notna(x) else None)\n",
    "df_obs_output[\"cohort\"] = df_obs_input[\"obs_arm\"].apply(lambda x: x.split(\":\")[-1].strip() if pd.notna(x) else None)\n",
    "df_obs_output[\"study_site\"] = df_obs_input[\"site\"].apply(lambda x: x.strip() if pd.notna(x) else None)\n",
    "df_obs_output[\"vital_status\"] = df_obs_input[\"ALIVE\"].apply(lambda x: \"alive\" if x == \"Y\" else \"dead\" if x == \"N\" else None)\n",
    "\n",
    "# Display the resulting DataFrame\n",
    "print(\"Observational Patients Output DataFrame preview:\")\n",
    "print(df_obs_output.head())"
   ]
  },
  {
   "cell_type": "code",
   "execution_count": null,
   "id": "c5ea111e-2e70-4a1f-af42-5d29abd45b11",
   "metadata": {},
   "outputs": [],
   "source": [
    "# Clinical Trial Patients\n",
    "# File path to the RCT_SUBJECTS.csv file\n",
    "file_path_rct = \"/Users/jinn/Documents/IU/ARDaC/DCC_data_release_v2.0.0/raw_data/Data for Nanxin/RCT Final Datasets/RCT_SUBJECTS.csv\"\n",
    "\n",
    "# Read the RCT_SUBJECTS.csv file\n",
    "df_input_rct = pd.read_csv(file_path_rct, sep=\",\", dtype=str)\n",
    "\n",
    "# Initialize a new DataFrame with the defined headers and the same index as df_input_rct\n",
    "df_rct_output = pd.DataFrame(index=df_input_rct.index, columns=headers)\n",
    "\n",
    "# Assign fixed values using .loc for proper alignment\n",
    "df_rct_output.loc[:, \"*type\"] = \"case\"\n",
    "df_rct_output.loc[:, \"project_id\"] = \"ARDaC-AlcHepNet\"\n",
    "df_rct_output.loc[:, \"*studies.submitter_id\"] = \"clinical\"\n",
    "df_rct_output.loc[:, \"index_date\"] = \"Study Enrollment\"\n",
    "\n",
    "# Map dynamic values based on the input file\n",
    "df_rct_output[\"*submitter_id\"] = df_input_rct[\"usubjid\"].apply(lambda x: f\"{x}_clinical\" if pd.notna(x) else None)\n",
    "df_rct_output[\"actarm\"] = df_input_rct[\"rct_arm\"].apply(lambda x: x.strip() if pd.notna(x) else None)\n",
    "df_rct_output[\"rct_meld_strata\"] = df_input_rct[\"rct_meld_strata\"].apply(lambda x: x.strip() if pd.notna(x) else None)\n",
    "df_rct_output[\"study_site\"] = df_input_rct[\"site\"].apply(lambda x: x.strip() if pd.notna(x) else None)\n",
    "df_rct_output[\"vital_status\"] = df_input_rct[\"ALIVE\"].apply(lambda x: \"alive\" if x == \"Y\" else \"dead\" if x == \"N\" else None)\n",
    "\n",
    "# Fill other unmapped columns with NaN for consistency\n",
    "for col in df_rct_output.columns:\n",
    "    if col not in [\"*type\", \"project_id\", \"*submitter_id\", \"*studies.submitter_id\", \"actarm\", \n",
    "                   \"rct_meld_strata\", \"study_site\", \"vital_status\", \"index_date\"]:\n",
    "        df_rct_output[col] = None\n",
    "\n",
    "# Display the first few rows of the output DataFrame for verification\n",
    "print(\"Output RCT DataFrame preview:\")\n",
    "print(df_rct_output.head())"
   ]
  },
  {
   "cell_type": "code",
   "execution_count": 53,
   "id": "5a177f80-4949-42a7-b665-56bd05a87370",
   "metadata": {},
   "outputs": [
    {
     "name": "stdout",
     "output_type": "stream",
     "text": [
      "RCT patients file saved as: case_rct_DCC_data_release_v2-0-0.tsv\n",
      "Observational patients file saved as: case_obs_DCC_data_release_v2-0-0.tsv\n"
     ]
    }
   ],
   "source": [
    "# Export the \"CASE\" node.\n",
    "\n",
    "# Save the Combined DataFrame to TSV\n",
    "rct_output_path = \"case_rct_DCC_data_release_v2-0-0.tsv\"\n",
    "obs_output_path = \"case_obs_DCC_data_release_v2-0-0.tsv\"\n",
    "\n",
    "df_rct_output.to_csv(rct_output_path, sep=\"\\t\", index=False, header=True)\n",
    "print(f\"RCT patients file saved as: {rct_output_path}\")\n",
    "df_obs_output.to_csv(obs_output_path, sep=\"\\t\", index=False, header=True)\n",
    "print(f\"Observational patients file saved as: {obs_output_path}\")"
   ]
  },
  {
   "cell_type": "code",
   "execution_count": null,
   "id": "53c1ebad-1737-4871-8622-d51b3818223c",
   "metadata": {},
   "outputs": [],
   "source": []
  },
  {
   "cell_type": "code",
   "execution_count": null,
   "id": "bffbf2a3-67d8-4b1d-a2d7-0a83d6a32a6d",
   "metadata": {},
   "outputs": [],
   "source": []
  },
  {
   "cell_type": "code",
   "execution_count": null,
   "id": "743e5d13-c5b8-4ee6-b667-3300984663a2",
   "metadata": {},
   "outputs": [],
   "source": []
  },
  {
   "cell_type": "code",
   "execution_count": null,
   "id": "197bfa1e-5c30-4b28-a27d-3687fd412e86",
   "metadata": {},
   "outputs": [],
   "source": []
  }
 ],
 "metadata": {
  "kernelspec": {
   "display_name": "Python 3 (ipykernel)",
   "language": "python",
   "name": "python3"
  },
  "language_info": {
   "codemirror_mode": {
    "name": "ipython",
    "version": 3
   },
   "file_extension": ".py",
   "mimetype": "text/x-python",
   "name": "python",
   "nbconvert_exporter": "python",
   "pygments_lexer": "ipython3",
   "version": "3.9.6"
  }
 },
 "nbformat": 4,
 "nbformat_minor": 5
}
