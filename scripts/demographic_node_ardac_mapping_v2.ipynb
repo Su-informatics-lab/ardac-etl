{
 "cells": [
  {
   "cell_type": "code",
   "execution_count": 18,
   "id": "c6f4bd14-8a5a-4aef-b242-8f3ad1c052ce",
   "metadata": {},
   "outputs": [],
   "source": [
    "import pandas as pd\n",
    "from datetime import datetime"
   ]
  },
  {
   "cell_type": "code",
   "execution_count": 6,
   "id": "094e91ab-6923-4f95-8721-ec2e3dc09de6",
   "metadata": {},
   "outputs": [],
   "source": [
    "# Path to the template TSV file containing the headers\n",
    "template_file_path = \"node_template/submission_demographic_template.tsv\"\n",
    "\n",
    "# Read the template TSV file to extract the headers\n",
    "df_template = pd.read_csv(template_file_path, sep=\"\\t\", nrows=0)  # Read only the header\n",
    "headers = df_template.columns.tolist()  # Extract the headers as a list"
   ]
  },
  {
   "cell_type": "code",
   "execution_count": 7,
   "id": "16df2f00-a37d-4535-8ff1-9a0e1ca26caf",
   "metadata": {},
   "outputs": [],
   "source": [
    "# Observational Patients\n",
    "# File paths\n",
    "case_path_obs = \"/Users/jinn/Documents/IU/ARDaC/case_obs_DCC_data_release_v2-0-0.tsv\"\n",
    "file_path_obs = \"/Users/jinn/Documents/IU/ARDaC/DCC_data_release_v2.0.0/raw_data/Data for Nanxin/OBS Final Datasets/OBS_SUBJECTS.csv\"\n",
    "\n",
    "# Read the files using pandas\n",
    "df_obs_case = pd.read_csv(case_path_obs, sep=\"\\t\", dtype=str)\n",
    "df_obs_input = pd.read_csv(file_path_obs, sep=\",\", dtype=str)\n",
    "\n",
    "df_obs_output = pd.DataFrame(index=df_obs_input.index, columns=headers)"
   ]
  },
  {
   "cell_type": "code",
   "execution_count": 20,
   "id": "513f501e-97f5-4936-b115-186afd41f916",
   "metadata": {},
   "outputs": [],
   "source": [
    "# Step 1: Extract \"*submitter_id\" from df_obs_case and create case_table\n",
    "case_table = pd.DataFrame()\n",
    "case_table[\"*submitter_id\"] = df_obs_case[\"*submitter_id\"]\n",
    "case_table[\"usubjid\"] = case_table[\"*submitter_id\"].apply(lambda x: x.split(\"_\")[0])  # Extract the number before \"_\"\n",
    "\n",
    "# Step 2: Iterate through case_table and map values to df_obs_output\n",
    "for _, row in case_table.iterrows():\n",
    "    submitter_id = row[\"*submitter_id\"]\n",
    "    usubjid = row[\"usubjid\"]\n",
    "\n",
    "    # Find the corresponding record in df_obs_input\n",
    "    input_row = df_obs_input[df_obs_input[\"usubjid\"] == usubjid]\n",
    "\n",
    "    if not input_row.empty:\n",
    "        input_row = input_row.iloc[0]  # Extract the first matching row\n",
    "\n",
    "        # Populate df_obs_output\n",
    "        df_obs_output.loc[:, \"*type\"] = \"demographic\"\n",
    "        df_obs_output.loc[:, \"project_id\"] = \"ARDaC-AlcHepNet\"\n",
    "        df_obs_output.loc[_, \"*submitter_id\"] = f\"{submitter_id}_demographic\"\n",
    "        df_obs_output.loc[_, \"*cases.submitter_id\"] = f\"{submitter_id}\"\n",
    "        df_obs_output.loc[_, \"age_at_index\"] = input_row.get(\"calc_age\", None)\n",
    "        df_obs_output.loc[_, \"cause_of_death_primary\"] = input_row.get(\"codp\", None)\n",
    "        df_obs_output.loc[_, \"cause_of_death_secondary\"] = input_row.get(\"cods\", None)\n",
    "        df_obs_output.loc[_, \"cur_employ_stat\"] = input_row.get(\"employed\", None)\n",
    "        df_obs_output.loc[_, \"education\"] = input_row.get(\"edu\", None)\n",
    "        df_obs_output.loc[_, \"ethnicity\"] = input_row.get(\"ethnic\", None)\n",
    "        df_obs_output.loc[_, \"gender\"] = input_row.get(\"gender\", None)\n",
    "        df_obs_output.loc[_, \"marital\"] = input_row.get(\"maristat\", None)\n",
    "        df_obs_output.loc[_, \"race\"] = input_row.get(\"race\", None)\n",
    "        df_obs_output.loc[_, \"sex\"] = input_row.get(\"sex\", None)\n",
    "\n",
    "        # Map \"vital_status\" from \"ALIVE\"\n",
    "        alive = input_row.get(\"ALIVE\", \"\").strip()\n",
    "        if alive == \"Y\":\n",
    "            df_obs_output.loc[_, \"vital_status\"] = \"Alive\"\n",
    "        elif alive == \"N\":\n",
    "            df_obs_output.loc[_, \"vital_status\"] = \"Dead\"\n",
    "        else:\n",
    "            df_obs_output.loc[_, \"vital_status\"] = \"Not Reported\"\n",
    "\n",
    "        # Extract \"year_of_birth\" and \"year_of_death\"\n",
    "        brthdtc = input_row.get(\"brthdtc\", None)\n",
    "        df_obs_output.loc[_, \"year_of_birth\"] = brthdtc.split(\"-\")[0] if pd.notna(brthdtc) else None\n",
    "\n",
    "        dthdtc = input_row.get(\"dthdtc\", None)\n",
    "        df_obs_output.loc[_, \"year_of_death\"] = dthdtc.split(\"-\")[0] if pd.notna(dthdtc) else None\n",
    "\n",
    "        # Calculate \"days_to_death\"\n",
    "        scdat = input_row.get(\"scdat\", None)  # Study enrollment date\n",
    "        if pd.notna(dthdtc) and pd.notna(scdat):\n",
    "            try:\n",
    "                death_date = datetime.strptime(dthdtc, \"%Y-%m-%d\")\n",
    "                study_date = datetime.strptime(scdat, \"%Y-%m-%d\")\n",
    "                days_to_death = (death_date - study_date).days\n",
    "                df_obs_output.loc[_, \"days_to_death\"] = days_to_death\n",
    "            except ValueError:\n",
    "                df_obs_output.loc[_, \"days_to_death\"] = None\n",
    "        "
   ]
  },
  {
   "cell_type": "code",
   "execution_count": null,
   "id": "5e3b276d-930e-4817-bf33-55696124daa1",
   "metadata": {},
   "outputs": [],
   "source": [
    "df_obs_output"
   ]
  },
  {
   "cell_type": "code",
   "execution_count": 22,
   "id": "8687b952-458c-4de7-a67c-547fe9514009",
   "metadata": {},
   "outputs": [
    {
     "name": "stdout",
     "output_type": "stream",
     "text": [
      "Observational patients file saved as: demographic_obs_DCC_data_release_v2-0-0.tsv\n"
     ]
    }
   ],
   "source": [
    "# Export the \"DEMOGRAPHIC\" node for Observational study.\n",
    "obs_output_path = \"demographic_obs_DCC_data_release_v2-0-0.tsv\"\n",
    "df_obs_output.to_csv(obs_output_path, sep=\"\\t\", index=False, header=True)\n",
    "print(f\"Observational patients file saved as: {obs_output_path}\")"
   ]
  },
  {
   "cell_type": "code",
   "execution_count": 23,
   "id": "e21e4e74-333b-4c04-b5eb-868e9c668edd",
   "metadata": {},
   "outputs": [],
   "source": [
    "# Clinical Trial Patients\n",
    "# File paths\n",
    "case_path_rct = \"/Users/jinn/Documents/IU/ARDaC/case_rct_DCC_data_release_v2-0-0.tsv\"\n",
    "file_path_rct = \"/Users/jinn/Documents/IU/ARDaC/DCC_data_release_v2.0.0/raw_data/Data for Nanxin/RCT Final Datasets/RCT_SUBJECTS.csv\"\n",
    "\n",
    "# Read the files using pandas\n",
    "df_rct_case = pd.read_csv(case_path_rct, sep=\"\\t\", dtype=str)\n",
    "df_rct_input = pd.read_csv(file_path_rct, sep=\",\", dtype=str)\n",
    "\n",
    "df_rct_output = pd.DataFrame(index=df_rct_input.index, columns=headers)"
   ]
  },
  {
   "cell_type": "code",
   "execution_count": 24,
   "id": "e9dbf309-6a83-405a-a8c9-e59b93331981",
   "metadata": {},
   "outputs": [],
   "source": [
    "# Step 1: Extract \"*submitter_id\" from df_rct_case and create case_table\n",
    "case_table = pd.DataFrame()\n",
    "case_table[\"*submitter_id\"] = df_rct_case[\"*submitter_id\"]\n",
    "case_table[\"usubjid\"] = case_table[\"*submitter_id\"].apply(lambda x: x.split(\"_\")[0])  # Extract the number before \"_\"\n",
    "\n",
    "# Step 2: Iterate through case_table and map values to df_rct_output\n",
    "for _, row in case_table.iterrows():\n",
    "    submitter_id = row[\"*submitter_id\"]\n",
    "    usubjid = row[\"usubjid\"]\n",
    "\n",
    "    # Find the corresponding record in df_rct_input\n",
    "    input_row = df_rct_input[df_rct_input[\"usubjid\"] == usubjid]\n",
    "\n",
    "    if not input_row.empty:\n",
    "        input_row = input_row.iloc[0]  # Extract the first matching row\n",
    "\n",
    "        # Populate df_rct_output\n",
    "        df_rct_output.loc[:, \"*type\"] = \"demographic\"\n",
    "        df_rct_output.loc[:, \"project_id\"] = \"ARDaC-AlcHepNet\"\n",
    "        df_rct_output.loc[_, \"*submitter_id\"] = f\"{submitter_id}_demographic\"\n",
    "        df_rct_output.loc[_, \"*cases.submitter_id\"] = f\"{submitter_id}\"\n",
    "        df_rct_output.loc[_, \"age_at_index\"] = input_row.get(\"calc_age\", None)\n",
    "        df_rct_output.loc[_, \"cause_of_death_primary\"] = input_row.get(\"codp\", None)\n",
    "        df_rct_output.loc[_, \"cause_of_death_secondary\"] = input_row.get(\"cods\", None)\n",
    "        df_rct_output.loc[_, \"cur_employ_stat\"] = input_row.get(\"employed\", None)\n",
    "        df_rct_output.loc[_, \"education\"] = input_row.get(\"edu\", None)\n",
    "        df_rct_output.loc[_, \"ethnicity\"] = input_row.get(\"ethnic\", None)\n",
    "        df_rct_output.loc[_, \"gender\"] = input_row.get(\"gender\", None)\n",
    "        df_rct_output.loc[_, \"marital\"] = input_row.get(\"maristat\", None)\n",
    "        df_rct_output.loc[_, \"race\"] = input_row.get(\"race\", None)\n",
    "        df_rct_output.loc[_, \"sex\"] = input_row.get(\"sex\", None)\n",
    "\n",
    "        # Map \"vital_status\" from \"ALIVE\"\n",
    "        alive = input_row.get(\"ALIVE\", \"\").strip()\n",
    "        if alive == \"Y\":\n",
    "            df_rct_output.loc[_, \"vital_status\"] = \"Alive\"\n",
    "        elif alive == \"N\":\n",
    "            df_rct_output.loc[_, \"vital_status\"] = \"Dead\"\n",
    "        else:\n",
    "            df_rct_output.loc[_, \"vital_status\"] = \"Not Reported\"\n",
    "\n",
    "        # Extract \"year_of_birth\" and \"year_of_death\"\n",
    "        brthdtc = input_row.get(\"brthdtc\", None)\n",
    "        df_rct_output.loc[_, \"year_of_birth\"] = brthdtc.split(\"-\")[0] if pd.notna(brthdtc) else None\n",
    "\n",
    "        dthdtc = input_row.get(\"dthdtc\", None)\n",
    "        df_rct_output.loc[_, \"year_of_death\"] = dthdtc.split(\"-\")[0] if pd.notna(dthdtc) else None\n",
    "\n",
    "        # Calculate \"days_to_death\"\n",
    "        scdat = input_row.get(\"scdat\", None)  # Study enrollment date\n",
    "        if pd.notna(dthdtc) and pd.notna(scdat):\n",
    "            try:\n",
    "                death_date = datetime.strptime(dthdtc, \"%Y-%m-%d\")\n",
    "                study_date = datetime.strptime(scdat, \"%Y-%m-%d\")\n",
    "                days_to_death = (death_date - study_date).days\n",
    "                df_rct_output.loc[_, \"days_to_death\"] = days_to_death\n",
    "            except ValueError:\n",
    "                df_rct_output.loc[_, \"days_to_death\"] = None"
   ]
  },
  {
   "cell_type": "code",
   "execution_count": null,
   "id": "d0a51441-f346-49a4-b6eb-dca1377e335c",
   "metadata": {},
   "outputs": [],
   "source": [
    "df_rct_output"
   ]
  },
  {
   "cell_type": "code",
   "execution_count": 26,
   "id": "eeeed381-7dae-4326-bebe-83eaf2652f51",
   "metadata": {},
   "outputs": [
    {
     "name": "stdout",
     "output_type": "stream",
     "text": [
      "Clinical Trial patients file saved as: demographic_rct_DCC_data_release_v2-0-0.tsv\n"
     ]
    }
   ],
   "source": [
    "# Export the \"DEMOGRAPHIC\" node for Clinical Trial study.\n",
    "rct_output_path = \"demographic_rct_DCC_data_release_v2-0-0.tsv\"\n",
    "df_rct_output.to_csv(rct_output_path, sep=\"\\t\", index=False, header=True)\n",
    "print(f\"Clinical Trial patients file saved as: {rct_output_path}\")"
   ]
  }
 ],
 "metadata": {
  "kernelspec": {
   "display_name": "Python 3 (ipykernel)",
   "language": "python",
   "name": "python3"
  },
  "language_info": {
   "codemirror_mode": {
    "name": "ipython",
    "version": 3
   },
   "file_extension": ".py",
   "mimetype": "text/x-python",
   "name": "python",
   "nbconvert_exporter": "python",
   "pygments_lexer": "ipython3",
   "version": "3.9.6"
  }
 },
 "nbformat": 4,
 "nbformat_minor": 5
}
