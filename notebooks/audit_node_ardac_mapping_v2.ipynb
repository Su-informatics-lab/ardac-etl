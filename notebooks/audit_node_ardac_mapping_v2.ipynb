{
 "cells": [
  {
   "cell_type": "code",
   "execution_count": 60,
   "id": "91de0089-2167-4c79-a348-4ca5e71a3a1c",
   "metadata": {},
   "outputs": [],
   "source": [
    "import pandas as pd"
   ]
  },
  {
   "cell_type": "code",
   "execution_count": 61,
   "id": "37415f35-cff9-4d08-9ad0-acb94a4c40e0",
   "metadata": {},
   "outputs": [],
   "source": [
    "# Path to the template TSV file containing the headers\n",
    "template_file_path = \"node_template/submission_audit_template.tsv\"\n",
    "\n",
    "# Read the template TSV file to extract the headers\n",
    "df_template = pd.read_csv(template_file_path, sep=\"\\t\", nrows=0)  # Read only the header\n",
    "headers = df_template.columns.tolist()  # Extract the headers as a list"
   ]
  },
  {
   "cell_type": "code",
   "execution_count": 62,
   "id": "08a03725-84ce-48a1-b0a1-b98d2f0470fc",
   "metadata": {},
   "outputs": [],
   "source": [
    "# Observational Patients\n",
    "# File paths\n",
    "file_path_obs = \"/Users/jinn/Documents/IU/ARDaC/DCC_data_release_v2.0.0/raw_data/Data for Nanxin/OBS Final Datasets/OBS_AUDIT.csv\"\n",
    "case_path_obs = \"/Users/jinn/Documents/IU/ARDaC/case_obs_DCC_data_release_v2-0-0.tsv\"\n",
    "\n",
    "# Read the files using pandas\n",
    "df_obs_input = pd.read_csv(file_path_obs, sep=\",\", dtype=str)\n",
    "df_obs_case = pd.read_csv(case_path_obs, sep=\"\\t\", dtype=str)"
   ]
  },
  {
   "cell_type": "markdown",
   "id": "72fa4324",
   "metadata": {},
   "source": []
  },
  {
   "cell_type": "code",
   "execution_count": 63,
   "id": "789d141e-f946-4dba-b823-77646a0bdf88",
   "metadata": {},
   "outputs": [],
   "source": [
    "# Step 1: Extract \"*submitter_id\" from df_obs_case and create case_table\n",
    "case_table = pd.DataFrame()\n",
    "case_table[\"*submitter_id\"] = df_obs_case[\"*submitter_id\"]\n",
    "case_table[\"usubjid\"] = case_table[\"*submitter_id\"].apply(lambda x: x.split(\"_\")[0])  # Extract the number before \"_\"\n",
    "df_obs_output = pd.DataFrame(index=case_table.index, columns=headers)\n",
    "\n",
    "# Initialize a list to store unmatched records\n",
    "unmatched_records_obs = []\n",
    "\n",
    "# Step 2: Iterate through case_table and map values to df_obs_output\n",
    "for _, row in case_table.iterrows():\n",
    "    submitter_id = row[\"*submitter_id\"]\n",
    "    usubjid = row[\"usubjid\"]\n",
    "\n",
    "    # Find the corresponding record in df_obs_input\n",
    "    input_row = df_obs_input[df_obs_input[\"usubjid\"] == usubjid]\n",
    "    \n",
    "    if not input_row.empty:\n",
    "        input_row = input_row.iloc[0]  # Extract the first matching row\n",
    "        # Populate df_obs_output\n",
    "        df_obs_output.loc[:, \"*type\"] = \"audit\"\n",
    "        df_obs_output.loc[:, \"project_id\"] = \"ARDaC-AlcHepNet\"\n",
    "        df_obs_output.loc[_, \"*submitter_id\"] = f\"{submitter_id}_audit\"\n",
    "        df_obs_output.loc[_, \"cases.submitter_id\"] = f\"{submitter_id}\"\n",
    "        \n",
    "        df_obs_output.loc[_, \"auditnd\"] = input_row.get(\"auditnd\", None)\n",
    "        df_obs_output.loc[_, \"adt0101\"] = input_row.get(\"adt0101\", None)\n",
    "        df_obs_output.loc[_, \"adt0102\"] = input_row.get(\"adt0102\", None)\n",
    "        df_obs_output.loc[_, \"adt0103\"] = input_row.get(\"adt0103\", None)\n",
    "        df_obs_output.loc[_, \"adt0104\"] = input_row.get(\"adt0104\", None)\n",
    "        df_obs_output.loc[_, \"adt0105\"] = input_row.get(\"adt0105\", None)\n",
    "        df_obs_output.loc[_, \"adt0106\"] = input_row.get(\"adt0106\", None)\n",
    "        df_obs_output.loc[_, \"adt0107\"] = input_row.get(\"adt0107\", None)\n",
    "        df_obs_output.loc[_, \"adt0108\"] = input_row.get(\"adt0108\", None)\n",
    "        df_obs_output.loc[_, \"adt0109\"] = input_row.get(\"adt0109\", None)\n",
    "        df_obs_output.loc[_, \"adt0110\"] = input_row.get(\"adt0110\", None)\n",
    "    else:\n",
    "        # Add unmatched record to the list\n",
    "        unmatched_records_obs.append({\n",
    "            \"usubjid\": usubjid,\n",
    "            \"*submitter_id\": submitter_id,\n",
    "            \"missing_audit\": \"Y\"\n",
    "        })\n",
    "        # Remove the unmatched row from df_rct_output\n",
    "        df_obs_output.drop(_, inplace=True)\n",
    "        \n",
    "# Step 3: QC Create a DataFrame for unmatched records\n",
    "df_unmatched_obs = pd.DataFrame(unmatched_records_obs)"
   ]
  },
  {
   "cell_type": "code",
   "execution_count": null,
   "id": "0ead435f-f6a0-4ca3-8d2d-0176d6c14f87",
   "metadata": {},
   "outputs": [],
   "source": [
    "df_obs_output"
   ]
  },
  {
   "cell_type": "code",
   "execution_count": 65,
   "id": "9f063507-1694-4a70-a6f6-0d3d25edb00b",
   "metadata": {},
   "outputs": [
    {
     "name": "stdout",
     "output_type": "stream",
     "text": [
      "Observational patients file saved as: audit_obs_DCC_data_release_v2-0-0.tsv\n",
      "Observational QC file saved as: audit_qc_obs_DCC_data_release_v2-0-0.tsv\n"
     ]
    }
   ],
   "source": [
    "# Export the \"DEMOGRAPHIC\" node for Observational study.\n",
    "obs_output_path = \"audit_obs_DCC_data_release_v2-0-0.tsv\"\n",
    "df_obs_output.to_csv(obs_output_path, sep=\"\\t\", index=False, header=True)\n",
    "print(f\"Observational patients file saved as: {obs_output_path}\")\n",
    "\n",
    "# Step 4: Output unmatched records to a TSV file\n",
    "output_path_unmatched_obs = \"audit_qc_obs_DCC_data_release_v2-0-0.tsv\"\n",
    "df_unmatched_obs.to_csv(output_path_unmatched_obs, sep=\"\\t\", index=False)\n",
    "print(f\"Observational QC file saved as: {output_path_unmatched_obs}\")"
   ]
  },
  {
   "cell_type": "code",
   "execution_count": 66,
   "id": "e1b09604-cdfa-48cd-9482-dd9a6562844a",
   "metadata": {},
   "outputs": [],
   "source": [
    "# Clinical trial Patients\n",
    "# File paths\n",
    "file_path_rct = \"/Users/jinn/Documents/IU/ARDaC/DCC_data_release_v2.0.0/raw_data/Data for Nanxin/RCT Final Datasets/RCT_AUDIT.csv\"\n",
    "case_path_rct = \"/Users/jinn/Documents/IU/ARDaC/case_rct_DCC_data_release_v2-0-0.tsv\"\n",
    "\n",
    "# Read the files using pandas\n",
    "df_rct_input = pd.read_csv(file_path_rct, sep=\",\", dtype=str)\n",
    "df_rct_case = pd.read_csv(case_path_rct, sep=\"\\t\", dtype=str)"
   ]
  },
  {
   "cell_type": "code",
   "execution_count": 67,
   "id": "8d4c2606-3a8c-45bd-99b1-544a9a8c970c",
   "metadata": {},
   "outputs": [],
   "source": [
    "# Step 1: Extract \"*submitter_id\" from df_rct_case and create case_table\n",
    "case_table = pd.DataFrame()\n",
    "case_table[\"*submitter_id\"] = df_rct_case[\"*submitter_id\"]\n",
    "case_table[\"usubjid\"] = case_table[\"*submitter_id\"].apply(lambda x: x.split(\"_\")[0])  # Extract the number before \"_\"\n",
    "df_rct_output = pd.DataFrame(index=case_table.index, columns=headers)\n",
    "\n",
    "# Initialize a list to store unmatched records\n",
    "unmatched_records_rct = []\n",
    "\n",
    "# Step 2: Iterate through case_table and map values to df_rct_output\n",
    "for _, row in case_table.iterrows():\n",
    "    submitter_id = row[\"*submitter_id\"]\n",
    "    usubjid = row[\"usubjid\"]\n",
    "\n",
    "    # Find the corresponding record in df_rct_input\n",
    "    input_row = df_rct_input[df_rct_input[\"usubjid\"] == usubjid]\n",
    "    \n",
    "    if not input_row.empty:\n",
    "        input_row = input_row.iloc[0]  # Extract the first matching row\n",
    "        # Populate df_rct_output\n",
    "        df_rct_output.loc[:, \"*type\"] = \"audit\"\n",
    "        df_rct_output.loc[:, \"project_id\"] = \"ARDaC-AlcHepNet\"\n",
    "        df_rct_output.loc[_, \"*submitter_id\"] = f\"{submitter_id}_audit\"\n",
    "        df_rct_output.loc[_, \"cases.submitter_id\"] = f\"{submitter_id}\"\n",
    "        \n",
    "        df_rct_output.loc[_, \"auditnd\"] = input_row.get(\"auditnd\", None)\n",
    "        df_rct_output.loc[_, \"adt0101\"] = input_row.get(\"adt0101\", None)\n",
    "        df_rct_output.loc[_, \"adt0102\"] = input_row.get(\"adt0102\", None)\n",
    "        df_rct_output.loc[_, \"adt0103\"] = input_row.get(\"adt0103\", None)\n",
    "        df_rct_output.loc[_, \"adt0104\"] = input_row.get(\"adt0104\", None)\n",
    "        df_rct_output.loc[_, \"adt0105\"] = input_row.get(\"adt0105\", None)\n",
    "        df_rct_output.loc[_, \"adt0106\"] = input_row.get(\"adt0106\", None)\n",
    "        df_rct_output.loc[_, \"adt0107\"] = input_row.get(\"adt0107\", None)\n",
    "        df_rct_output.loc[_, \"adt0108\"] = input_row.get(\"adt0108\", None)\n",
    "        df_rct_output.loc[_, \"adt0109\"] = input_row.get(\"adt0109\", None)\n",
    "        df_rct_output.loc[_, \"adt0110\"] = input_row.get(\"adt0110\", None)\n",
    "    else:\n",
    "        # Add unmatched record to the list\n",
    "        unmatched_records_rct.append({\n",
    "            \"usubjid\": usubjid,\n",
    "            \"*submitter_id\": submitter_id,\n",
    "            \"missing_audit\": \"Y\"\n",
    "        })\n",
    "        # Remove the unmatched row from df_rct_output\n",
    "        df_rct_output.drop(_, inplace=True)\n",
    "\n",
    "        \n",
    "# Step 3: QC Create a DataFrame for unmatched records\n",
    "df_unmatched_rct = pd.DataFrame(unmatched_records_rct)"
   ]
  },
  {
   "cell_type": "code",
   "execution_count": null,
   "id": "476eb8fd-fe51-4d1b-a78f-77573e10bf97",
   "metadata": {},
   "outputs": [],
   "source": [
    "df_rct_output"
   ]
  },
  {
   "cell_type": "code",
   "execution_count": 69,
   "id": "551a6279-32e8-4c65-8657-a3c2d6abc8eb",
   "metadata": {},
   "outputs": [
    {
     "name": "stdout",
     "output_type": "stream",
     "text": [
      "RCT patients file saved as: audit_rct_DCC_data_release_v2-0-0.tsv\n",
      "RCT QC file saved as: audit_qc_rct_DCC_data_release_v2-0-0.tsv\n"
     ]
    }
   ],
   "source": [
    "# Export the \"DEMOGRAPHIC\" node for Randomized Controlled Trial (RCT) study.\n",
    "rct_output_path = \"audit_rct_DCC_data_release_v2-0-0.tsv\"\n",
    "df_rct_output.to_csv(rct_output_path, sep=\"\\t\", index=False, header=True)\n",
    "print(f\"RCT patients file saved as: {rct_output_path}\")\n",
    "\n",
    "# Step 4: Output unmatched records to a TSV file\n",
    "output_path_unmatched_rct = \"audit_qc_rct_DCC_data_release_v2-0-0.tsv\"\n",
    "df_unmatched_rct.to_csv(output_path_unmatched_rct, sep=\"\\t\", index=False)\n",
    "print(f\"RCT QC file saved as: {output_path_unmatched_rct}\")"
   ]
  }
 ],
 "metadata": {
  "kernelspec": {
   "display_name": "Python 3 (ipykernel)",
   "language": "python",
   "name": "python3"
  },
  "language_info": {
   "codemirror_mode": {
    "name": "ipython",
    "version": 3
   },
   "file_extension": ".py",
   "mimetype": "text/x-python",
   "name": "python",
   "nbconvert_exporter": "python",
   "pygments_lexer": "ipython3",
   "version": "3.9.6"
  }
 },
 "nbformat": 4,
 "nbformat_minor": 5
}
