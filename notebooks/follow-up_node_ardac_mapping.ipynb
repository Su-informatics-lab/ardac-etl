{
 "cells": [
  {
   "cell_type": "code",
   "execution_count": null,
   "id": "42c8dd67-1d1b-4538-9149-a01c5ec64e84",
   "metadata": {},
   "outputs": [],
   "source": [
    "import pandas as pd\n",
    "from pathlib import Path\n",
    "from datetime import datetime\n",
    "from python.ardac.follow_up_node_mapper import *"
   ]
  },
  {
   "cell_type": "code",
   "execution_count": 4,
   "id": "91bc01a3-804b-41cf-ad2e-0f29d4194c5e",
   "metadata": {},
   "outputs": [],
   "source": [
    "# Path to the template TSV file containing the headers\n",
    "template_file_path = \"node_template/submission_follow_up_template.tsv\"\n",
    "\n",
    "# Read the template TSV file to extract the headers\n",
    "df_template = pd.read_csv(template_file_path, sep=\"\\t\", nrows=0)  # Read only the header\n",
    "headers = df_template.columns.tolist()  # Extract the headers as a list"
   ]
  },
  {
   "cell_type": "code",
   "execution_count": null,
   "id": "81acf932-89c0-42b8-afc1-2021c0cf4cef",
   "metadata": {},
   "outputs": [],
   "source": [
    "# Observational Patients\n",
    "# File paths\n",
    "case_path_obs = Path(\"/Users/jinn/Documents/IU/ARDaC/case_obs_DCC_data_release_v2-0-0.tsv\")\n",
    "# OBS_LIVERSCORES\n",
    "# Path to the liver scores file\n",
    "liver_scores_path = \"/Users/jinn/Documents/IU/ARDaC/DCC_data_release_v2.0.0/raw_data/Data for Nanxin/OBS Final Datasets/OBS_LIVERSCORES.csv\"\n",
    "# OBS_MEDINFO\n",
    "# Path to the liver scores file\n",
    "med_info_path = \"/Users/jinn/Documents/IU/ARDaC/DCC_data_release_v2.0.0/raw_data/Data for Nanxin/OBS Final Datasets/OBS_MEDINFO.csv\"\n",
    "# OBS_VITALS\n",
    "# Path to the vitals file\n",
    "vitals_path = \"/Users/jinn/Documents/IU/ARDaC/DCC_data_release_v2.0.0/raw_data/Data for Nanxin/OBS Final Datasets/OBS_VITALS.csv\"\n",
    "# OBS_SOC\n",
    "# Path to the SOC file\n",
    "soc_path = \"/Users/jinn/Documents/IU/ARDaC/DCC_data_release_v2.0.0/raw_data/Data for Nanxin/OBS Final Datasets/OBS_SOC.csv\"\n",
    "\n",
    "df_output, df_qc = generate_observational_follow_up_node(liver_scores_path, med_info_path, vitals_path, soc_path, case_path_obs, headers)"
   ]
  },
  {
   "cell_type": "code",
   "execution_count": null,
   "id": "4f1068d7-a027-4bea-ba80-9dd4f71c6103",
   "metadata": {},
   "outputs": [],
   "source": [
    "\n",
    "qc_output_path = \"follow-up_qc_obs_DCC_data_release_v2-0-0.tsv\"\n",
    "df_qc.to_csv(qc_output_path, sep=\"\\t\", index=False, header=True)\n",
    "\n",
    "# Save the cleaned df_output to a TSV file\n",
    "output_path = \"follow-up_obs_DCC_data_release_v2-0-0.tsv\"\n",
    "df_output.to_csv(output_path, sep=\"\\t\", index=False, header=True)\n",
    "\n",
    "print(f\"Cleaned follow-up table saved as: {output_path}\")\n",
    "print(f\"QC table saved as: {qc_output_path}\")"
   ]
  },
  {
   "cell_type": "code",
   "execution_count": null,
   "id": "d099562b-0d3b-4bde-be19-15f1178e16ac",
   "metadata": {},
   "outputs": [],
   "source": [
    "# Clinical Patients\n",
    "# File paths\n",
    "case_path_rct = \"/Users/jinn/Documents/IU/ARDaC/case_rct_DCC_data_release_v2-0-0.tsv\"\n",
    "# RCT_LIVERSCORES\n",
    "# Path to the liver scores file\n",
    "liver_scores_path_rct = \"/Users/jinn/Documents/IU/ARDaC/DCC_data_release_v2.0.0/raw_data/Data for Nanxin/RCT Final Datasets/RCT_LIVERSCORES.csv\"\n",
    "# RCT_MEDINFO\n",
    "# Path to the liver scores file\n",
    "med_info_path_rct = \"/Users/jinn/Documents/IU/ARDaC/DCC_data_release_v2.0.0/raw_data/Data for Nanxin/RCT Final Datasets/OBS_MEDINFO.csv\"\n",
    "# RCT_VITALS\n",
    "# Path to the vitals file\n",
    "vitals_path_rct = \"/Users/jinn/Documents/IU/ARDaC/DCC_data_release_v2.0.0/raw_data/Data for Nanxin/RCT Final Datasets/RCT_VITALS.csv\"\n",
    "# RCT_SOC\n",
    "# Path to the SOC file\n",
    "soc_path_rct = \"/Users/jinn/Documents/IU/ARDaC/DCC_data_release_v2.0.0/raw_data/Data for Nanxin/RCT Final Datasets/RCT_SOC.csv\"\n",
    "\n",
    "df_output_rct, df_qc_rct = generate_clinical_follow_up_node(liver_scores_path_rct, med_info_path_rct, vitals_path_rct, soc_path_rct, case_path_rct, headers)\n"
   ]
  },
  {
   "cell_type": "code",
   "execution_count": null,
   "id": "095896da-96fd-47a9-9117-a5af7a6a499e",
   "metadata": {},
   "outputs": [],
   "source": [
    "\n",
    "# Save the QC records to a TSV file\n",
    "qc_output_path_rct = \"follow-up_qc_rct_DCC_data_release_v2-0-0.tsv\"\n",
    "df_qc_rct.to_csv(qc_output_path_rct, sep=\"\\t\", index=False, header=True)\n",
    "\n",
    "# Save the cleaned df_output to a TSV file\n",
    "output_path_rct = \"follow-up_rct_DCC_data_release_v2-0-0.tsv\"\n",
    "df_output_rct.to_csv(output_path_rct, sep=\"\\t\", index=False, header=True)\n",
    "\n",
    "print(f\"Cleaned RCT follow-up table saved as: {output_path_rct}\")\n",
    "print(f\"RCT QC table saved as: {qc_output_path_rct}\")"
   ]
  }
 ],
 "metadata": {
  "kernelspec": {
   "display_name": "Python 3 (ipykernel)",
   "language": "python",
   "name": "python3"
  },
  "language_info": {
   "codemirror_mode": {
    "name": "ipython",
    "version": 3
   },
   "file_extension": ".py",
   "mimetype": "text/x-python",
   "name": "python",
   "nbconvert_exporter": "python",
   "pygments_lexer": "ipython3",
   "version": "3.9.6"
  }
 },
 "nbformat": 4,
 "nbformat_minor": 5
}
