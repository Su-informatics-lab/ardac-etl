{
 "cells": [
  {
   "cell_type": "code",
   "execution_count": null,
   "id": "e7dc6c78",
   "metadata": {},
   "outputs": [],
   "source": [
    "import pandas as pd\n",
    "from pathlib import Path\n",
    "from python.ardac.case_node_mapper import *"
   ]
  },
  {
   "cell_type": "code",
   "execution_count": 50,
   "id": "e2bb9f9b-201b-4296-ac39-8a33a728ea05",
   "metadata": {},
   "outputs": [],
   "source": [
    "# Path to the template TSV file containing the headers\n",
    "template_file_path = \"node_template/submission_case_template.tsv\"\n",
    "\n",
    "# Read the template TSV file to extract the headers\n",
    "df_template = pd.read_csv(template_file_path, sep=\"\\t\", nrows=0)  # Read only the header\n",
    "headers = df_template.columns.tolist()  # Extract the headers as a list"
   ]
  },
  {
   "cell_type": "code",
   "execution_count": null,
   "id": "ffbcd6c5-1d36-4eca-9e66-ca7357bbcf22",
   "metadata": {},
   "outputs": [],
   "source": [
    "# Observational Patients\n",
    "\n",
    "# File path to the input CSV file\n",
    "file_path_obs = Path(\"/Users/jinn/Documents/IU/ARDaC/DCC_data_release_v2.0.0/raw_data/Data for Nanxin/OBS Final Datasets/OBS_SUBJECTS.csv\")\n",
    "\n",
    "# Map the data\n",
    "case_node_rct = generate_observational_case_node(file_path_obs, headers)\n",
    "\n",
    "# Display the resulting DataFrame\n",
    "print(\"Observational Patients Output DataFrame preview:\")\n",
    "print(case_node_rct.head())"
   ]
  },
  {
   "cell_type": "code",
   "execution_count": null,
   "id": "d1dfaaa1",
   "metadata": {},
   "outputs": [],
   "source": [
    "# Clinical Trial Patients\n",
    "# File path to the RCT_SUBJECTS.csv file\n",
    "file_path_rct = Path(\"/Users/jinn/Documents/IU/ARDaC/DCC_data_release_v2.0.0/raw_data/Data for Nanxin/RCT Final Datasets/RCT_SUBJECTS.csv\")\n",
    "\n",
    "\n",
    "case_node_rct = generate_clinical_case_node(file_path_rct, headers)\n",
    "\n",
    "# Display the first few rows of the output DataFrame for verification\n",
    "print(\"Output RCT DataFrame preview:\")\n",
    "print(case_node_rct.head())"
   ]
  }
 ],
 "metadata": {
  "kernelspec": {
   "display_name": "Python 3 (ipykernel)",
   "language": "python",
   "name": "python3"
  },
  "language_info": {
   "codemirror_mode": {
    "name": "ipython",
    "version": 3
   },
   "file_extension": ".py",
   "mimetype": "text/x-python",
   "name": "python",
   "nbconvert_exporter": "python",
   "pygments_lexer": "ipython3",
   "version": "3.9.6"
  }
 },
 "nbformat": 4,
 "nbformat_minor": 5
}
