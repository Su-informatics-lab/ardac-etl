{
 "cells": [
  {
   "cell_type": "code",
   "execution_count": null,
   "id": "91de0089-2167-4c79-a348-4ca5e71a3a1c",
   "metadata": {},
   "outputs": [],
   "source": [
    "import pandas as pd\n",
    "from pathlib import Path\n",
    "from python.ardac.audit_node_mapper import *"
   ]
  },
  {
   "cell_type": "code",
   "execution_count": 61,
   "id": "37415f35-cff9-4d08-9ad0-acb94a4c40e0",
   "metadata": {},
   "outputs": [],
   "source": [
    "# Path to the template TSV file containing the headers\n",
    "template_file_path = \"node_template/submission_audit_template.tsv\"\n",
    "\n",
    "# Read the template TSV file to extract the headers\n",
    "df_template = pd.read_csv(template_file_path, sep=\"\\t\", nrows=0)  # Read only the header\n",
    "headers = df_template.columns.tolist()  # Extract the headers as a list"
   ]
  },
  {
   "cell_type": "code",
   "execution_count": null,
   "id": "08a03725-84ce-48a1-b0a1-b98d2f0470fc",
   "metadata": {},
   "outputs": [],
   "source": [
    "# Observational Patients\n",
    "# File paths\n",
    "file_path_obs = Path(\"/Users/jinn/Documents/IU/ARDaC/DCC_data_release_v2.0.0/raw_data/Data for Nanxin/OBS Final Datasets/OBS_AUDIT.csv\")\n",
    "case_path_obs = Path(\"/Users/jinn/Documents/IU/ARDaC/case_obs_DCC_data_release_v2-0-0.tsv\")\n",
    "\n",
    "df_obs_output, df_unmatched_obs = generate_observational_audit_node(file_path_obs, case_path_obs, headers)\n"
   ]
  },
  {
   "cell_type": "code",
   "execution_count": null,
   "id": "0ead435f-f6a0-4ca3-8d2d-0176d6c14f87",
   "metadata": {},
   "outputs": [],
   "source": [
    "df_obs_output.head()"
   ]
  },
  {
   "cell_type": "code",
   "execution_count": null,
   "id": "9f063507-1694-4a70-a6f6-0d3d25edb00b",
   "metadata": {},
   "outputs": [],
   "source": [
    "# Export the \"DEMOGRAPHIC\" node for Observational study.\n",
    "obs_output_path = \"audit_obs_DCC_data_release_v2-0-0.tsv\"\n",
    "df_obs_output.to_csv(obs_output_path, sep=\"\\t\", index=False, header=True)\n",
    "print(f\"Observational patients file saved as: {obs_output_path}\")\n",
    "\n",
    "# Step 4: Output unmatched records to a TSV file\n",
    "output_path_unmatched_obs = \"audit_qc_obs_DCC_data_release_v2-0-0.tsv\"\n",
    "df_unmatched_obs.to_csv(output_path_unmatched_obs, sep=\"\\t\", index=False)\n",
    "print(f\"Observational QC file saved as: {output_path_unmatched_obs}\")"
   ]
  },
  {
   "cell_type": "code",
   "execution_count": null,
   "id": "e1b09604-cdfa-48cd-9482-dd9a6562844a",
   "metadata": {},
   "outputs": [],
   "source": [
    "# Clinical trial Patients\n",
    "# File paths\n",
    "file_path_rct = Path(\"/Users/jinn/Documents/IU/ARDaC/DCC_data_release_v2.0.0/raw_data/Data for Nanxin/RCT Final Datasets/RCT_AUDIT.csv\")\n",
    "case_path_rct = Path(\"/Users/jinn/Documents/IU/ARDaC/case_rct_DCC_data_release_v2-0-0.tsv\")\n",
    "\n",
    "df_rct_output, df_unmatched_rct = generate_clinical_audit_node(file_path_rct, case_path_rct, headers)"
   ]
  },
  {
   "cell_type": "code",
   "execution_count": null,
   "id": "476eb8fd-fe51-4d1b-a78f-77573e10bf97",
   "metadata": {},
   "outputs": [],
   "source": [
    "df_rct_output.head()"
   ]
  },
  {
   "cell_type": "code",
   "execution_count": null,
   "id": "551a6279-32e8-4c65-8657-a3c2d6abc8eb",
   "metadata": {},
   "outputs": [],
   "source": [
    "# Export the \"DEMOGRAPHIC\" node for Randomized Controlled Trial (RCT) study.\n",
    "rct_output_path = \"audit_rct_DCC_data_release_v2-0-0.tsv\"\n",
    "df_rct_output.to_csv(rct_output_path, sep=\"\\t\", index=False, header=True)\n",
    "print(f\"RCT patients file saved as: {rct_output_path}\")\n",
    "\n",
    "# Step 4: Output unmatched records to a TSV file\n",
    "output_path_unmatched_rct = \"audit_qc_rct_DCC_data_release_v2-0-0.tsv\"\n",
    "df_unmatched_rct.to_csv(output_path_unmatched_rct, sep=\"\\t\", index=False)\n",
    "print(f\"RCT QC file saved as: {output_path_unmatched_rct}\")"
   ]
  }
 ],
 "metadata": {
  "kernelspec": {
   "display_name": "Python 3 (ipykernel)",
   "language": "python",
   "name": "python3"
  },
  "language_info": {
   "codemirror_mode": {
    "name": "ipython",
    "version": 3
   },
   "file_extension": ".py",
   "mimetype": "text/x-python",
   "name": "python",
   "nbconvert_exporter": "python",
   "pygments_lexer": "ipython3",
   "version": "3.9.6"
  }
 },
 "nbformat": 4,
 "nbformat_minor": 5
}
