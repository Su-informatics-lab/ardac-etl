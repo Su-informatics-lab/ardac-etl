{
 "cells": [
  {
   "cell_type": "code",
   "execution_count": null,
   "id": "c6f4bd14-8a5a-4aef-b242-8f3ad1c052ce",
   "metadata": {},
   "outputs": [],
   "source": [
    "import pandas as pd\n",
    "from pathlib import Path\n",
    "from datetime import datetime\n",
    "from python.ardac.demographic_node_mapper import *"
   ]
  },
  {
   "cell_type": "code",
   "execution_count": 6,
   "id": "094e91ab-6923-4f95-8721-ec2e3dc09de6",
   "metadata": {},
   "outputs": [],
   "source": [
    "# Path to the template TSV file containing the headers\n",
    "template_file_path = \"node_template/submission_demographic_template.tsv\"\n",
    "\n",
    "# Read the template TSV file to extract the headers\n",
    "df_template = pd.read_csv(template_file_path, sep=\"\\t\", nrows=0)  # Read only the header\n",
    "headers = df_template.columns.tolist()  # Extract the headers as a list"
   ]
  },
  {
   "cell_type": "code",
   "execution_count": null,
   "id": "16df2f00-a37d-4535-8ff1-9a0e1ca26caf",
   "metadata": {},
   "outputs": [],
   "source": [
    "# Observational Patients\n",
    "# File paths\n",
    "case_path_obs = Path(\"/Users/jinn/Documents/IU/ARDaC/case_obs_DCC_data_release_v2-0-0.tsv\")\n",
    "file_path_obs = Path(\"/Users/jinn/Documents/IU/ARDaC/DCC_data_release_v2.0.0/raw_data/Data for Nanxin/OBS Final Datasets/OBS_SUBJECTS.csv\")\n",
    "\n",
    "df_obs_output = generate_observational_demographic_node(file_path_obs, case_path_obs, headers)"
   ]
  },
  {
   "cell_type": "code",
   "execution_count": null,
   "id": "5e3b276d-930e-4817-bf33-55696124daa1",
   "metadata": {},
   "outputs": [],
   "source": [
    "df_obs_output.head()"
   ]
  },
  {
   "cell_type": "code",
   "execution_count": null,
   "id": "8687b952-458c-4de7-a67c-547fe9514009",
   "metadata": {},
   "outputs": [],
   "source": [
    "# Export the \"DEMOGRAPHIC\" node for Observational study.\n",
    "obs_output_path = \"demographic_obs_DCC_data_release_v2-0-0.tsv\"\n",
    "df_obs_output.to_csv(obs_output_path, sep=\"\\t\", index=False, header=True)\n",
    "print(f\"Observational patients file saved as: {obs_output_path}\")"
   ]
  },
  {
   "cell_type": "code",
   "execution_count": null,
   "id": "e21e4e74-333b-4c04-b5eb-868e9c668edd",
   "metadata": {},
   "outputs": [],
   "source": [
    "# Clinical Trial Patients\n",
    "# File paths\n",
    "case_path_rct = Path(\"/Users/jinn/Documents/IU/ARDaC/case_rct_DCC_data_release_v2-0-0.tsv\")\n",
    "file_path_rct = Path(\"/Users/jinn/Documents/IU/ARDaC/DCC_data_release_v2.0.0/raw_data/Data for Nanxin/RCT Final Datasets/RCT_SUBJECTS.csv\")\n",
    "\n",
    "df_rct_output = generate_clinical_demographic_node(file_path_rct, case_path_rct, headers)"
   ]
  },
  {
   "cell_type": "code",
   "execution_count": null,
   "id": "d0a51441-f346-49a4-b6eb-dca1377e335c",
   "metadata": {},
   "outputs": [],
   "source": [
    "df_rct_output.head()"
   ]
  },
  {
   "cell_type": "code",
   "execution_count": null,
   "id": "eeeed381-7dae-4326-bebe-83eaf2652f51",
   "metadata": {},
   "outputs": [],
   "source": [
    "# Export the \"DEMOGRAPHIC\" node for Clinical Trial study.\n",
    "rct_output_path = \"demographic_rct_DCC_data_release_v2-0-0.tsv\"\n",
    "df_rct_output.to_csv(rct_output_path, sep=\"\\t\", index=False, header=True)\n",
    "print(f\"Clinical Trial patients file saved as: {rct_output_path}\")"
   ]
  }
 ],
 "metadata": {
  "kernelspec": {
   "display_name": "Python 3 (ipykernel)",
   "language": "python",
   "name": "python3"
  },
  "language_info": {
   "codemirror_mode": {
    "name": "ipython",
    "version": 3
   },
   "file_extension": ".py",
   "mimetype": "text/x-python",
   "name": "python",
   "nbconvert_exporter": "python",
   "pygments_lexer": "ipython3",
   "version": "3.9.6"
  }
 },
 "nbformat": 4,
 "nbformat_minor": 5
}
